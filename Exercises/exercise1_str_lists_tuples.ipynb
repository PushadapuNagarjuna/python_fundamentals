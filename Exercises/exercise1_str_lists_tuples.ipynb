{
 "cells": [
  {
   "cell_type": "markdown",
   "metadata": {},
   "source": [
    "# Python fundamentals Exercises (Expressions, Strings, Lists, Tuples)\n",
    "\n",
    "The notebook intends to help you practice these concepts. Attempt honestly.\n",
    "\n",
    "Instructions/Suggestions:\n",
    "1. Don't forget to copy the expression from the Question to code cell!\n",
    "2. You can use the python documentation anytime you want to learn about a new function or attribute."
   ]
  },
  {
   "cell_type": "markdown",
   "metadata": {},
   "source": [
    "## Q1: What is 84 / 12 + 2 * 2 ?"
   ]
  },
  {
   "cell_type": "code",
   "execution_count": 29,
   "metadata": {},
   "outputs": [],
   "source": [
    "# code and test below...\n",
    "## Q1: What is 84 / 12 + 2 * 2 ?" 
    x="84 / 12 + 2 * 2"
    print(eval(x))
    "\n"
   ]
  },
  {
   "cell_type": "markdown",
   "metadata": {},
   "source": [
    "## Q2: What is the type of the answer variable in this expression:\n",
    "\n",
    "`answer = 12/4`"
   ]
  },
  {
   "cell_type": "code",
   "execution_count": 30,
   "metadata": {},
   "outputs": [],
   "source": [
    "# code and test below...\n",
    "## Q2: What is the type of the answer variable in this expression:\n",
    "\n",
    "`answer = 12/4`"
    print(type(answer))
    "\n",
    "\n"
   ]
  },
  {
   "cell_type": "markdown",
   "metadata": {},
   "source": [
    "## Q3: What is the value of num?\n",
    "\n",
    "```python\n",
    "num = 2\n",
    "num = 5*10\n",
    "```"
   ]
  },
  {
   "cell_type": "code",
   "execution_count": 31,
   "metadata": {},
   "outputs": [],
   "source": [
    "# code and test below...\n",
    "## Q3: What is the value of num?\n",
    "\n",
    "```python\n",
    "num = 2\n",
    "num = 5*10\n",
    "```"
    print("Value of num is expected: 50, actual:",num)
    "\n"
   ]
  },
  {
   "cell_type": "markdown",
   "metadata": {},
   "source": [
    "## Q4: What would this expression evaluate to?\n",
    "\n",
    "`'tom' + 1`"
   ]
  },
  {
   "cell_type": "code",
   "execution_count": 32,
   "metadata": {},
   "outputs": [],
   "source": [
    "# code and test below...\n",
    "## Q4: What would this expression evaluate to?\n",
    "\n",
    "`'tom' + 1`"
    print("Given expression evaluated to string concatnation:","tom1")
    "\n"
   ]
  },
  {
   "cell_type": "markdown",
   "metadata": {},
   "source": [
    "## Q5: What would this expression evaluate to?\n",
    "\n",
    "`'6' + '4'`"
   ]
  },
  {
   "cell_type": "code",
   "execution_count": 33,
   "metadata": {},
   "outputs": [],
   "source": [
    "# code and test below...\n",
    "## Q5: What would this expression evaluate to?\n",
    "\n",
    "`'6' + '4'`"
    print("expression results in printing 64")
    "\n"
   ]
  },
  {
   "cell_type": "markdown",
   "metadata": {},
   "source": [
    "## Q6: What would be the output of MyString[5:12] if?\n",
    "\n",
    "`MyString = \"Data Science with Harshit\"`"
   ]
  },
  {
   "cell_type": "code",
   "execution_count": 34,
   "metadata": {},
   "outputs": [],
   "source": [
    "# code and test below...\n",
    "## Q6: What would be the output of MyString[5:12] if?\n",
    "\n",
    "`MyString = \"Data Science with Harshit\"`"
    print("Science")
    "\n"
   ]
  },
  {
   "cell_type": "markdown",
   "metadata": {},
   "source": [
    "## Q7: What would be the output of MyString[5:] if?\n",
    "\n",
    "`MyString = \"Data Science with Harshit\"`"
   ]
  },
  {
   "cell_type": "code",
   "execution_count": 35,
   "metadata": {},
   "outputs": [],
   "source": [
    "# code and test below...\n",
    "## Q7: What would be the output of MyString[5:] if?\n",
    "\n",
    "`MyString = \"Data Science with Harshit\"`"
    print("Science with Harshit")
    "\n"
   ]
  },
  {
   "cell_type": "markdown",
   "metadata": {},
   "source": [
    "## Q8: What would be the output of MyString[5::2] if?\n",
    "\n",
    "`MyString = \"Data Science with Harshit\"`"
   ]
  },
  {
   "cell_type": "code",
   "execution_count": 36,
   "metadata": {},
   "outputs": [],
   "source": [
    "# code and test below...\n",
    "## Q8: What would be the output of MyString[5::2] if?\n",
    "\n",
    "`MyString = \"Data Science with Harshit\"`"
    print("Sinewt asi")
    "\n"
   ]
  },
  {
   "cell_type": "markdown",
   "metadata": {},
   "source": [
    "## Q9: Is there any 'go' in MyString if yes, at what index?  \n",
    "\n",
    "`MyString = \"You should go to your home!\"`"
   ]
  },
  {
   "cell_type": "code",
   "execution_count": 37,
   "metadata": {},
   "outputs": [],
   "source": [
    "# code and test below...\n",
    "## Q9: Is there any 'go' in MyString if yes, at what index?  \n",
    "\n",
    "`MyString = \"You should go to your home!\"`"
    print(MyString.find("go"))
    "\n"
   ]
  },
  {
   "cell_type": "markdown",
   "metadata": {},
   "source": [
    "## Q10: Evaluate the following expression and convert it to string object?\n",
    "\n",
    "`18 + 19 * 11`"
   ]
  },
  {
   "cell_type": "code",
   "execution_count": 38,
   "metadata": {},
   "outputs": [],
   "source": [
    "# code and test below...\n",
    "## Q10: Evaluate the following expression and convert it to string object?\n",
    "\n",
    "`18 + 19 * 11`"
    x="18+19*11"
    x=eval(x)
    print(str(x))
    "\n"
   ]
  },
  {
   "cell_type": "markdown",
   "metadata": {},
   "source": [
    "## Q11: Replace Harshit with your name in the statement below.\n",
    "\n",
    "`MyString = \"Data Science with Harshit\"`"
   ]
  },
  {
   "cell_type": "code",
   "execution_count": 39,
   "metadata": {},
   "outputs": [],
   "source": [
    "# code and test below...\n",
     "## Q11: Replace Harshit with your name in the statement below.\n",
    "\n",
    "`MyString = \"Data Science with Harshit\"`"
    MyString.replace("Harshit","Nagarjuna")
    "\n"
   ]
  },
  {
   "cell_type": "markdown",
   "metadata": {},
   "source": [
    "## Q12: Use the split() function to extract all the words of MyString in a list:\n",
    "\n",
    "`MyString = \"Data Science with Harshit\"`"
   ]
  },
  {
   "cell_type": "code",
   "execution_count": 40,
   "metadata": {},
   "outputs": [],
   "source": [
    "# code and test below...\n",
    "## Q12: Use the split() function to extract all the words of MyString in a list:\n",
    "\n",
    "`MyString = \"Data Science with Harshit\"`"
    words = MyString.split(" ")
    print(words)
    "\n"
   ]
  },
  {
   "cell_type": "markdown",
   "metadata": {},
   "source": [
    "## Q13: Extract the last element of the list without counting.\n",
    "\n",
    "`MyList = [23, 43, 56, 'tom', 'red', 65, 89, 90, 87]`"
   ]
  },
  {
   "cell_type": "code",
   "execution_count": 41,
   "metadata": {},
   "outputs": [],
   "source": [
    "# code and test below...\n",
    "## Q13: Extract the last element of the list without counting.\n",
    "\n",
    "`MyList = [23, 43, 56, 'tom', 'red', 65, 89, 90, 87]`"
    MyList.reverse()
    print(MyList[0])
    "\n"
   ]
  },
  {
   "cell_type": "markdown",
   "metadata": {},
   "source": [
    "## Q14: What is the length of the list below?\n",
    "\n",
    "`MyList = [23, 43, 56, 'tom', 'red', 65, 89, 90, 87]`"
   ]
  },
  {
   "cell_type": "code",
   "execution_count": 42,
   "metadata": {},
   "outputs": [],
   "source": [
    "# code and test below...\n",
    "## Q14: What is the length of the list below?\n",
    "\n",
    "`MyList = [23, 43, 56, 'tom', 'red', 65, 89, 90, 87]`"
    print(len(MyList))
    "\n"
   ]
  },
  {
   "cell_type": "markdown",
   "metadata": {},
   "source": [
    "## Q15: Extract all the elements from 2nd index to 6th index.\n",
    "\n",
    "`MyList = [23, 43, 56, 'tom', 'red', 65, 89, 90, 87]`"
   ]
  },
  {
   "cell_type": "code",
   "execution_count": null,
   "metadata": {},
   "outputs": [],
   "source": [
    "# code and test below...\n",
    "## Q15: Extract all the elements from 2nd index to 6th index.\n",
    "\n",
    "`MyList = [23, 43, 56, 'tom', 'red', 65, 89, 90, 87]`"
    print(MyList[2:7]) ##including 6th index
   ]
  },
  {
   "cell_type": "markdown",
   "metadata": {},
   "source": [
    "## Q16: Extract all the elements except last 2 using slicing\n",
    "\n",
    "`MyList = [23, 43, 56, 'tom', 'red', 65, 89, 90, 87]`"
   ]
  },
  {
   "cell_type": "code",
   "execution_count": 43,
   "metadata": {},
   "outputs": [],
   "source": [
    "# code and test below...\n",
    "## Q16: Extract all the elements except last 2 using slicing\n",
    "\n",
    "`MyList = [23, 43, 56, 'tom', 'red', 65, 89, 90, 87]`"
    MyList=MyList[:len(MyList)-2]
    "\n"
   ]
  },
  {
   "cell_type": "markdown",
   "metadata": {},
   "source": [
    "## Q17: Are lists mutable? (Yes/No)\n",
    "\n"
   ]
  },
  {
   "cell_type": "code",
   "execution_count": 44,
   "metadata": {},
   "outputs": [],
   "source": [
    "# code and test below...\n",
    "## Q17: Are lists mutable? (Yes/No)\n",
    "\n"
    print("Yes")
    "\n"
   ]
  },
  {
   "cell_type": "markdown",
   "metadata": {},
   "source": [
    "## Q18: Sort the below list using the in-built list class function:\n",
    "\n",
    "`MyList = [23, 43, 56, 65, 89, 90, 87]`"
   ]
  },
  {
   "cell_type": "code",
   "execution_count": 45,
   "metadata": {},
   "outputs": [],
   "source": [
    "# code and test below...\n",
    "## Q18: Sort the below list using the in-built list class function:\n",
    "\n",
    "`MyList = [23, 43, 56, 65, 89, 90, 87]`"
    MyList.sort()
    "\n"
   ]
  },
  {
   "cell_type": "markdown",
   "metadata": {},
   "source": [
    "## Q19: Delete 'tom' and 'red' from the list using remove() function.\n",
    "\n",
    "`MyList = [23, 43, 56, 'tom', 'red', 65, 89, 90, 87]`"
   ]
  },
  {
   "cell_type": "code",
   "execution_count": 46,
   "metadata": {},
   "outputs": [],
   "source": [
    "# code and test below...\n",
    "## Q19: Delete 'tom' and 'red' from the list using remove() function.\n",
    "\n",
    "`MyList = [23, 43, 56, 'tom', 'red', 65, 89, 90, 87]`"
    MyList.remove("tom")
    MyList.remove("red")
    "\n"
   ]
  },
  {
   "cell_type": "markdown",
   "metadata": {},
   "source": [
    "## Q20: Tuples are mutable(True/False) \n",
    "\n"
   ]
  },
  {
   "cell_type": "code",
   "execution_count": 47,
   "metadata": {},
   "outputs": [],
   "source": [
    "# code and test below...\n",
    "## Q20: Tuples are mutable(True/False) \n",
    "\n"
    print(false)
    "\n"
   ]
  },
  {
   "cell_type": "markdown",
   "metadata": {},
   "source": [
    "## Q21: From a tuple (23, -1, 34, [1 , 3] , 90), extract 3.\n",
    "\n"
   ]
  },
  {
   "cell_type": "code",
   "execution_count": 48,
   "metadata": {},
   "outputs": [],
   "source": [
    "# code and test below...\n",
    "## Q21: From a tuple (23, -1, 34, [1 , 3] , 90), extract 3.\n",
    
    "\n"
   ]
  },
  {
   "cell_type": "markdown",
   "metadata": {},
   "source": [
    "## Q22: What is right method to clone a list? Create a clone the list below. `Imp` (Hint: slicing)\n",
    "\n",
    "`MyList = [23, 43, 56, 'tom', 'red', 65, 89, 90, 87]`"
   ]
  },
  {
   "cell_type": "code",
   "execution_count": 49,
   "metadata": {},
   "outputs": [],
   "source": [
    "# code and test below...\n",
    "\n"
   ]
  }
 ],
 "metadata": {
  "kernelspec": {
   "display_name": "Python 3",
   "language": "python",
   "name": "python3"
  },
  "language_info": {
   "codemirror_mode": {
    "name": "ipython",
    "version": 3
   },
   "file_extension": ".py",
   "mimetype": "text/x-python",
   "name": "python",
   "nbconvert_exporter": "python",
   "pygments_lexer": "ipython3",
   "version": "3.7.4"
  }
 },
 "nbformat": 4,
 "nbformat_minor": 2
}
